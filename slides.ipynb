{
 "cells": [
  {
   "cell_type": "markdown",
   "metadata": {
    "slideshow": {
     "slide_type": "slide"
    }
   },
   "source": [
    "<h2 class=\"center\">Microservices using Flask</h2>\n",
    "<h5 class=\"center\">by Joe Meilinger</h5>"
   ]
  },
  {
   "cell_type": "markdown",
   "metadata": {
    "slideshow": {
     "slide_type": "slide"
    }
   },
   "source": [
    "# Why use microservices?\n",
    "\n",
    "> The term \"Microservice Architecture\" has sprung up over the last few years to describe a particular way of designing software applications as suites of independently deployable services. While there is no precise definition of this architectural style, there are certain common characteristics around organization around business capability, automated deployment, intelligence in the endpoints, and decentralized control of languages and data.\n",
    "\n",
    "- [Martin Fowler](https://martinfowler.com/articles/microservices.html)"
   ]
  },
  {
   "cell_type": "markdown",
   "metadata": {
    "slideshow": {
     "slide_type": "slide"
    }
   },
   "source": [
    "# Microservice application design considerations\n",
    "\n",
    "- Follow [12factor.net](https://12factor.net/) principles\n",
    "- Configuration injected via environment, not built into configuration files\n",
    "- Explicit and isolated dependencies\n",
    "- We want individual/separate components based on context of need"
   ]
  },
  {
   "cell_type": "markdown",
   "metadata": {
    "slideshow": {
     "slide_type": "slide"
    }
   },
   "source": [
    "# Solution: Containers!\n",
    "\n",
    "- Containers have constraints built into them to basically force us to follow many 12 factor principles\n",
    "- Transient, disposable, lightweight\n",
    "- Creation is highly repeatable and reproducable"
   ]
  },
  {
   "cell_type": "markdown",
   "metadata": {
    "slideshow": {
     "slide_type": "slide"
    }
   },
   "source": [
    "# Some architectural considerations\n",
    "\n",
    "- Authentication and Authorization\n",
    "- API specifications (OAS 3 + Swagger)\n",
    "- API management/gateway\n",
    "- Centralized logs capture/aggregation\n",
    "- Secret/configuration storage\n",
    "- Service interconnect mechanisms\n",
    "- CI/CD process\n",
    "- Hosting infrastructure/container orchestrator\n",
    "- Message/event queues\n",
    "- This is not a comprehensive list..."
   ]
  },
  {
   "cell_type": "markdown",
   "metadata": {
    "slideshow": {
     "slide_type": "slide"
    }
   },
   "source": [
    "# Semi-quick example\n",
    "\n",
    "- We'll cover _some_ of the architectural considerations"
   ]
  },
  {
   "cell_type": "markdown",
   "metadata": {
    "slideshow": {
     "slide_type": "fragment"
    }
   },
   "source": [
    "- Authentication and Authorization...NOPE"
   ]
  },
  {
   "cell_type": "markdown",
   "metadata": {
    "slideshow": {
     "slide_type": "fragment"
    }
   },
   "source": [
    "- API specification/management/gateway....NOPE"
   ]
  },
  {
   "cell_type": "markdown",
   "metadata": {
    "slideshow": {
     "slide_type": "fragment"
    }
   },
   "source": [
    "- Secret/configuration storage...NOPE"
   ]
  },
  {
   "cell_type": "markdown",
   "metadata": {
    "slideshow": {
     "slide_type": "fragment"
    }
   },
   "source": [
    "- CI/CD process...NOPE"
   ]
  },
  {
   "cell_type": "markdown",
   "metadata": {
    "slideshow": {
     "slide_type": "fragment"
    }
   },
   "source": [
    "- Message/event queues...NOPE"
   ]
  },
  {
   "cell_type": "markdown",
   "metadata": {
    "slideshow": {
     "slide_type": "fragment"
    }
   },
   "source": [
    "- [x] Service interconnect mechanisms\n",
    "- [x] Centralized log capture/aggregation\n",
    "- [x] Hosting infrastructure/container orchestrator...kinda"
   ]
  },
  {
   "cell_type": "markdown",
   "metadata": {
    "slideshow": {
     "slide_type": "slide"
    }
   },
   "source": [
    "# Service interconnect\n",
    "\n",
    "- Web-facing API would likely use HTTPS for end-user facing services\n",
    "- Backing/internal services could use protobufs over TCP/IP, HTTP, etc\n",
    "- Going to use HTTP to connect service to service in this example (which is pretty heavyweight)"
   ]
  },
  {
   "cell_type": "markdown",
   "metadata": {
    "slideshow": {
     "slide_type": "slide"
    }
   },
   "source": [
    "# Centralized log capture\n",
    "\n",
    "- Many SaaS solutions available (some are free, too)\n",
    "- Can host your own as well: ELK, fluentd, etc\n",
    "- For ease of implementation, using Loggly for this example"
   ]
  },
  {
   "cell_type": "markdown",
   "metadata": {
    "slideshow": {
     "slide_type": "slide"
    }
   },
   "source": [
    "# Hosting infrastructure/container orchestrator\n",
    "\n",
    "- Can host containers on just about anything: AWS/Google Cloud/Azure/Digital Ocean, etc\n",
    "- Using a `docker-machine` created AWS instance and `docker-compose`\n",
    "- This is NOT a production-ready solution, but is sufficent for development/testing"
   ]
  },
  {
   "cell_type": "markdown",
   "metadata": {
    "slideshow": {
     "slide_type": "slide"
    }
   },
   "source": [
    "# Example\n",
    "\n",
    "- Simple 2-tier microservice example\n",
    "- Public interface creates cars and passes them to an internal service that creates the car's components\n",
    "- Waaaay overarchitected for this need, but meant to illustrate"
   ]
  },
  {
   "cell_type": "markdown",
   "metadata": {
    "slideshow": {
     "slide_type": "slide"
    }
   },
   "source": [
    "# Setup\n",
    "\n",
    "- Flask for application code\n",
    "- Flask-Restful for API definition\n",
    "- PostgreSQL for data persistence\n",
    "- Docker + docker-compose for container creation and light orchestration\n",
    "- Loggly for centralized logging capture\n",
    "- Goal is to have something that y'all can play with\n",
    "\n",
    "...now to the demo..."
   ]
  },
  {
   "cell_type": "markdown",
   "metadata": {
    "slideshow": {
     "slide_type": "slide"
    }
   },
   "source": [
    "# Challenges\n",
    "\n",
    "- Managing tons of individual repositories or service definitions is tough!\n",
    "- Containers themselves are pretty simple, but complexity still exists\n",
    "- And many many more..."
   ]
  },
  {
   "cell_type": "markdown",
   "metadata": {
    "slideshow": {
     "slide_type": "slide"
    }
   },
   "source": [
    "<h1 class=\"center\">Thank you!</h1>"
   ]
  }
 ],
 "metadata": {
  "celltoolbar": "Slideshow",
  "kernelspec": {
   "display_name": "Python 3",
   "language": "python",
   "name": "python3"
  },
  "language_info": {
   "codemirror_mode": {
    "name": "ipython",
    "version": 3
   },
   "file_extension": ".py",
   "mimetype": "text/x-python",
   "name": "python",
   "nbconvert_exporter": "python",
   "pygments_lexer": "ipython3",
   "version": "3.8.0"
  },
  "rise": {
   "autolaunch": true,
   "start_slideshow_at": "selected",
   "theme": "blood",
   "transition": "zoom"
  }
 },
 "nbformat": 4,
 "nbformat_minor": 4
}
