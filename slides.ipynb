{
 "cells": [
  {
   "cell_type": "markdown",
   "metadata": {
    "slideshow": {
     "slide_type": "slide"
    }
   },
   "source": [
    "<h2 class=\"center\">Microservices using Flask</h2>\n",
    "<h5 class=\"center\">by Joe Meilinger</h5>"
   ]
  },
  {
   "cell_type": "markdown",
   "metadata": {
    "slideshow": {
     "slide_type": "slide"
    }
   },
   "source": [
    "# Why use microservices?\n",
    "\n",
    "> The term \"Microservice Architecture\" has sprung up over the last few years to describe a particular way of designing software applications as suites of independently deployable services. While there is no precise definition of this architectural style, there are certain common characteristics around organization around business capability, automated deployment, intelligence in the endpoints, and decentralized control of languages and data.\n",
    "\n",
    "- [Martin Fowler](https://martinfowler.com/articles/microservices.html)"
   ]
  },
  {
   "cell_type": "markdown",
   "metadata": {
    "slideshow": {
     "slide_type": "slide"
    }
   },
   "source": [
    "- 12 factor apps\n",
    "- What do we need?\n",
    "    - Authentication and authorization (we'll skip that)\n",
    "    - API specification (OAS 3)...we might skip that\n",
    "    - Centralized logging capture\n",
    "    - Service interconnect -- using HTTP (which is heavyweight), but could use message queues or raw sockets as well\n",
    "- This is a basic example and does not represent all of the architectural components that'd possibly be needed\n",
    "- Build up a stack\n",
    "    - We'll use HTTP as the main interconnect for simplicity\n",
    "    - Use Flask + Blueprints for application endpoints\n",
    "    - Gunicorn for serving in containers\n",
    "    - Use docker and docker compose for running the architecture as a whole\n",
    "    - Skip any type of UI for now\n",
    "    - Skip usage of a message queue\n",
    "- Find or create a relevant example, indicate that this example is extremely over-architected for what i'll be used for\n",
    "    - Maybe a product production chain example\n",
    "- Example/simple deployment that is NOT a production-ready deployment mechanism\n",
    "    - Docker compose against a docker-machine hosted image on Digital Ocean\n",
    "- Could use something like https://connexion.readthedocs.io/ for OAS 3 specification conformance"
   ]
  }
 ],
 "metadata": {
  "celltoolbar": "Slideshow",
  "kernelspec": {
   "display_name": "Python 3",
   "language": "python",
   "name": "python3"
  },
  "language_info": {
   "codemirror_mode": {
    "name": "ipython",
    "version": 3
   },
   "file_extension": ".py",
   "mimetype": "text/x-python",
   "name": "python",
   "nbconvert_exporter": "python",
   "pygments_lexer": "ipython3",
   "version": "3.8.0"
  },
  "rise": {
   "autolaunch": true,
   "start_slideshow_at": "selected",
   "theme": "blood",
   "transition": "zoom"
  }
 },
 "nbformat": 4,
 "nbformat_minor": 4
}
